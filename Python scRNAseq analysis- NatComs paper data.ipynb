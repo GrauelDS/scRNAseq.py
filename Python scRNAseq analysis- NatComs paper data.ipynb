{
 "cells": [
  {
   "cell_type": "code",
   "execution_count": 11,
   "id": "2535c880",
   "metadata": {},
   "outputs": [],
   "source": [
    "import GEOparse\n",
    "import wget\n",
    "import pandas as pd\n",
    "import numpy as np"
   ]
  },
  {
   "cell_type": "code",
   "execution_count": 20,
   "id": "771236ef",
   "metadata": {
    "collapsed": true
   },
   "outputs": [
    {
     "name": "stderr",
     "output_type": "stream",
     "text": [
      "05-Feb-2022 20:27:03 INFO GEOparse - Parsing ./GEOparse/GSE160687_family.soft.gz: \n",
      "05-Feb-2022 20:27:03 DEBUG GEOparse - DATABASE: GeoMiame\n",
      "05-Feb-2022 20:27:03 DEBUG GEOparse - SERIES: GSE160687\n",
      "05-Feb-2022 20:27:03 DEBUG GEOparse - PLATFORM: GPL20301\n",
      "05-Feb-2022 20:27:03 DEBUG GEOparse - PLATFORM: GPL21103\n",
      "05-Feb-2022 20:27:03 DEBUG GEOparse - PLATFORM: GPL24676\n",
      "05-Feb-2022 20:27:03 DEBUG GEOparse - SAMPLE: GSM4859291\n",
      "05-Feb-2022 20:27:03 DEBUG GEOparse - SAMPLE: GSM4859292\n",
      "05-Feb-2022 20:27:03 DEBUG GEOparse - SAMPLE: GSM4859293\n",
      "05-Feb-2022 20:27:03 DEBUG GEOparse - SAMPLE: GSM4859294\n",
      "05-Feb-2022 20:27:03 DEBUG GEOparse - SAMPLE: GSM4859295\n",
      "05-Feb-2022 20:27:03 DEBUG GEOparse - SAMPLE: GSM4859296\n",
      "05-Feb-2022 20:27:03 DEBUG GEOparse - SAMPLE: GSM4859297\n",
      "05-Feb-2022 20:27:03 DEBUG GEOparse - SAMPLE: GSM4859298\n",
      "05-Feb-2022 20:27:03 DEBUG GEOparse - SAMPLE: GSM4859299\n",
      "05-Feb-2022 20:27:03 DEBUG GEOparse - SAMPLE: GSM4859300\n",
      "05-Feb-2022 20:27:03 DEBUG GEOparse - SAMPLE: GSM4859301\n",
      "05-Feb-2022 20:27:03 DEBUG GEOparse - SAMPLE: GSM4859302\n",
      "05-Feb-2022 20:27:03 DEBUG GEOparse - SAMPLE: GSM4859303\n",
      "05-Feb-2022 20:27:03 DEBUG GEOparse - SAMPLE: GSM4859304\n",
      "05-Feb-2022 20:27:03 DEBUG GEOparse - SAMPLE: GSM4859305\n",
      "05-Feb-2022 20:27:03 DEBUG GEOparse - SAMPLE: GSM4859306\n",
      "05-Feb-2022 20:27:03 DEBUG GEOparse - SAMPLE: GSM4859307\n",
      "05-Feb-2022 20:27:03 DEBUG GEOparse - SAMPLE: GSM4877056\n",
      "05-Feb-2022 20:27:03 DEBUG GEOparse - SAMPLE: GSM4877057\n",
      "05-Feb-2022 20:27:03 DEBUG GEOparse - SAMPLE: GSM4877058\n",
      "05-Feb-2022 20:27:03 DEBUG GEOparse - SAMPLE: GSM4877059\n",
      "05-Feb-2022 20:27:03 DEBUG GEOparse - SAMPLE: GSM4877060\n",
      "05-Feb-2022 20:27:03 DEBUG GEOparse - SAMPLE: GSM4877061\n",
      "05-Feb-2022 20:27:03 DEBUG GEOparse - SAMPLE: GSM4877062\n",
      "05-Feb-2022 20:27:03 DEBUG GEOparse - SAMPLE: GSM4877063\n",
      "05-Feb-2022 20:27:03 DEBUG GEOparse - SAMPLE: GSM4877064\n",
      "05-Feb-2022 20:27:03 DEBUG GEOparse - SAMPLE: GSM4877065\n",
      "05-Feb-2022 20:27:03 DEBUG GEOparse - SAMPLE: GSM4877066\n",
      "05-Feb-2022 20:27:03 DEBUG GEOparse - SAMPLE: GSM4877067\n",
      "05-Feb-2022 20:27:03 DEBUG GEOparse - SAMPLE: GSM4877068\n",
      "05-Feb-2022 20:27:03 DEBUG GEOparse - SAMPLE: GSM4877069\n",
      "05-Feb-2022 20:27:03 DEBUG GEOparse - SAMPLE: GSM4877070\n",
      "05-Feb-2022 20:27:03 DEBUG GEOparse - SAMPLE: GSM4877071\n",
      "05-Feb-2022 20:27:03 DEBUG GEOparse - SAMPLE: GSM4877072\n",
      "05-Feb-2022 20:27:03 DEBUG GEOparse - SAMPLE: GSM4877073\n"
     ]
    }
   ],
   "source": [
    "#gse = GEOparse.get_GEO(geo = \"GSE160687\", destdir = \"C:/Users/Angelo/Documents/Python/data/GEOparse/\")\n",
    "gse = GEOparse.get_GEO(filepath=\"./GEOparse/GSE160687_family.soft.gz\")"
   ]
  },
  {
   "cell_type": "code",
   "execution_count": 51,
   "id": "9c17e648",
   "metadata": {},
   "outputs": [],
   "source": [
    "#in subcut: odd values are untx, evens are tx\n",
    "subcut4T1_samples = gse.metadata['sample_id'][:9] \n",
    "\n",
    "#in fatpad: first 4 are unxt, last 4 are tx\n",
    "fatpad4T1_samples = gse.metadata['sample_id'][9:17]"
   ]
  },
  {
   "cell_type": "code",
   "execution_count": 45,
   "id": "b2b5a3a8",
   "metadata": {},
   "outputs": [
    {
     "data": {
      "text/plain": [
       "['GSM4859291',\n",
       " 'GSM4859292',\n",
       " 'GSM4859293',\n",
       " 'GSM4859294',\n",
       " 'GSM4859295',\n",
       " 'GSM4859296',\n",
       " 'GSM4859297',\n",
       " 'GSM4859298',\n",
       " 'GSM4859299']"
      ]
     },
     "execution_count": 45,
     "metadata": {},
     "output_type": "execute_result"
    }
   ],
   "source": [
    "subcut4T1_samples"
   ]
  },
  {
   "cell_type": "code",
   "execution_count": 47,
   "id": "5fccec6f",
   "metadata": {
    "collapsed": true
   },
   "outputs": [
    {
     "name": "stderr",
     "output_type": "stream",
     "text": [
      "07-Feb-2022 11:31:57 DEBUG utils - Directory C:/Users/Angelo/Documents/Python/data/GEOparse/ already exists. Skipping.\n",
      "07-Feb-2022 11:31:57 INFO GEOparse - Downloading http://www.ncbi.nlm.nih.gov/geo/query/acc.cgi?targ=self&acc=GSM4859291&form=text&view=full to C:/Users/Angelo/Documents/Python/data/GEOparse/GSM4859291.txt\n",
      "07-Feb-2022 11:31:57 DEBUG downloader - Total size: 0\n",
      "07-Feb-2022 11:31:57 DEBUG downloader - md5: None\n",
      "2.69kB [00:00, 394kB/s]\n",
      "07-Feb-2022 11:31:57 DEBUG downloader - Moving C:\\Users\\Angelo\\AppData\\Local\\Temp\\tmpno1kjklj to C:\\Users\\Angelo\\Documents\\Python\\data\\GEOparse\\GSM4859291.txt\n",
      "07-Feb-2022 11:31:57 DEBUG downloader - Successfully downloaded http://www.ncbi.nlm.nih.gov/geo/query/acc.cgi?targ=self&acc=GSM4859291&form=text&view=full\n",
      "07-Feb-2022 11:31:57 INFO GEOparse - Parsing C:/Users/Angelo/Documents/Python/data/GEOparse/GSM4859291.txt: \n",
      "07-Feb-2022 11:31:57 DEBUG utils - Directory C:/Users/Angelo/Documents/Python/data/GEOparse/ already exists. Skipping.\n",
      "07-Feb-2022 11:31:57 INFO GEOparse - Downloading http://www.ncbi.nlm.nih.gov/geo/query/acc.cgi?targ=self&acc=GSM4859292&form=text&view=full to C:/Users/Angelo/Documents/Python/data/GEOparse/GSM4859292.txt\n",
      "07-Feb-2022 11:31:57 DEBUG downloader - Total size: 0\n",
      "07-Feb-2022 11:31:57 DEBUG downloader - md5: None\n",
      "2.69kB [00:00, 393kB/s]\n",
      "07-Feb-2022 11:31:57 DEBUG downloader - Moving C:\\Users\\Angelo\\AppData\\Local\\Temp\\tmpo9w8iafw to C:\\Users\\Angelo\\Documents\\Python\\data\\GEOparse\\GSM4859292.txt\n",
      "07-Feb-2022 11:31:57 DEBUG downloader - Successfully downloaded http://www.ncbi.nlm.nih.gov/geo/query/acc.cgi?targ=self&acc=GSM4859292&form=text&view=full\n",
      "07-Feb-2022 11:31:57 INFO GEOparse - Parsing C:/Users/Angelo/Documents/Python/data/GEOparse/GSM4859292.txt: \n",
      "07-Feb-2022 11:31:57 DEBUG utils - Directory C:/Users/Angelo/Documents/Python/data/GEOparse/ already exists. Skipping.\n",
      "07-Feb-2022 11:31:57 INFO GEOparse - Downloading http://www.ncbi.nlm.nih.gov/geo/query/acc.cgi?targ=self&acc=GSM4859293&form=text&view=full to C:/Users/Angelo/Documents/Python/data/GEOparse/GSM4859293.txt\n",
      "07-Feb-2022 11:31:58 DEBUG downloader - Total size: 0\n",
      "07-Feb-2022 11:31:58 DEBUG downloader - md5: None\n",
      "2.69kB [00:00, 394kB/s]\n",
      "07-Feb-2022 11:31:58 DEBUG downloader - Moving C:\\Users\\Angelo\\AppData\\Local\\Temp\\tmpxssneyix to C:\\Users\\Angelo\\Documents\\Python\\data\\GEOparse\\GSM4859293.txt\n",
      "07-Feb-2022 11:31:58 DEBUG downloader - Successfully downloaded http://www.ncbi.nlm.nih.gov/geo/query/acc.cgi?targ=self&acc=GSM4859293&form=text&view=full\n",
      "07-Feb-2022 11:31:58 INFO GEOparse - Parsing C:/Users/Angelo/Documents/Python/data/GEOparse/GSM4859293.txt: \n",
      "07-Feb-2022 11:31:58 DEBUG utils - Directory C:/Users/Angelo/Documents/Python/data/GEOparse/ already exists. Skipping.\n",
      "07-Feb-2022 11:31:58 INFO GEOparse - Downloading http://www.ncbi.nlm.nih.gov/geo/query/acc.cgi?targ=self&acc=GSM4859294&form=text&view=full to C:/Users/Angelo/Documents/Python/data/GEOparse/GSM4859294.txt\n",
      "07-Feb-2022 11:31:58 DEBUG downloader - Total size: 0\n",
      "07-Feb-2022 11:31:58 DEBUG downloader - md5: None\n",
      "2.69kB [00:00, 459kB/s]\n",
      "07-Feb-2022 11:31:58 DEBUG downloader - Moving C:\\Users\\Angelo\\AppData\\Local\\Temp\\tmp71xyssie to C:\\Users\\Angelo\\Documents\\Python\\data\\GEOparse\\GSM4859294.txt\n",
      "07-Feb-2022 11:31:58 DEBUG downloader - Successfully downloaded http://www.ncbi.nlm.nih.gov/geo/query/acc.cgi?targ=self&acc=GSM4859294&form=text&view=full\n",
      "07-Feb-2022 11:31:58 INFO GEOparse - Parsing C:/Users/Angelo/Documents/Python/data/GEOparse/GSM4859294.txt: \n",
      "07-Feb-2022 11:31:58 DEBUG utils - Directory C:/Users/Angelo/Documents/Python/data/GEOparse/ already exists. Skipping.\n",
      "07-Feb-2022 11:31:58 INFO GEOparse - Downloading http://www.ncbi.nlm.nih.gov/geo/query/acc.cgi?targ=self&acc=GSM4859295&form=text&view=full to C:/Users/Angelo/Documents/Python/data/GEOparse/GSM4859295.txt\n",
      "07-Feb-2022 11:31:58 DEBUG downloader - Total size: 0\n",
      "07-Feb-2022 11:31:58 DEBUG downloader - md5: None\n",
      "2.69kB [00:00, 460kB/s]\n",
      "07-Feb-2022 11:31:58 DEBUG downloader - Moving C:\\Users\\Angelo\\AppData\\Local\\Temp\\tmpkobm3iti to C:\\Users\\Angelo\\Documents\\Python\\data\\GEOparse\\GSM4859295.txt\n",
      "07-Feb-2022 11:31:58 DEBUG downloader - Successfully downloaded http://www.ncbi.nlm.nih.gov/geo/query/acc.cgi?targ=self&acc=GSM4859295&form=text&view=full\n",
      "07-Feb-2022 11:31:58 INFO GEOparse - Parsing C:/Users/Angelo/Documents/Python/data/GEOparse/GSM4859295.txt: \n",
      "07-Feb-2022 11:31:58 DEBUG utils - Directory C:/Users/Angelo/Documents/Python/data/GEOparse/ already exists. Skipping.\n",
      "07-Feb-2022 11:31:58 INFO GEOparse - Downloading http://www.ncbi.nlm.nih.gov/geo/query/acc.cgi?targ=self&acc=GSM4859296&form=text&view=full to C:/Users/Angelo/Documents/Python/data/GEOparse/GSM4859296.txt\n",
      "07-Feb-2022 11:31:59 DEBUG downloader - Total size: 0\n",
      "07-Feb-2022 11:31:59 DEBUG downloader - md5: None\n",
      "2.69kB [00:00, 459kB/s]\n",
      "07-Feb-2022 11:31:59 DEBUG downloader - Moving C:\\Users\\Angelo\\AppData\\Local\\Temp\\tmpe8r0fp1c to C:\\Users\\Angelo\\Documents\\Python\\data\\GEOparse\\GSM4859296.txt\n",
      "07-Feb-2022 11:31:59 DEBUG downloader - Successfully downloaded http://www.ncbi.nlm.nih.gov/geo/query/acc.cgi?targ=self&acc=GSM4859296&form=text&view=full\n",
      "07-Feb-2022 11:31:59 INFO GEOparse - Parsing C:/Users/Angelo/Documents/Python/data/GEOparse/GSM4859296.txt: \n",
      "07-Feb-2022 11:31:59 DEBUG utils - Directory C:/Users/Angelo/Documents/Python/data/GEOparse/ already exists. Skipping.\n",
      "07-Feb-2022 11:31:59 INFO GEOparse - Downloading http://www.ncbi.nlm.nih.gov/geo/query/acc.cgi?targ=self&acc=GSM4859297&form=text&view=full to C:/Users/Angelo/Documents/Python/data/GEOparse/GSM4859297.txt\n",
      "07-Feb-2022 11:31:59 DEBUG downloader - Total size: 0\n",
      "07-Feb-2022 11:31:59 DEBUG downloader - md5: None\n",
      "2.69kB [00:00, 460kB/s]\n",
      "07-Feb-2022 11:31:59 DEBUG downloader - Moving C:\\Users\\Angelo\\AppData\\Local\\Temp\\tmpic0oz830 to C:\\Users\\Angelo\\Documents\\Python\\data\\GEOparse\\GSM4859297.txt\n",
      "07-Feb-2022 11:31:59 DEBUG downloader - Successfully downloaded http://www.ncbi.nlm.nih.gov/geo/query/acc.cgi?targ=self&acc=GSM4859297&form=text&view=full\n",
      "07-Feb-2022 11:31:59 INFO GEOparse - Parsing C:/Users/Angelo/Documents/Python/data/GEOparse/GSM4859297.txt: \n",
      "07-Feb-2022 11:31:59 DEBUG utils - Directory C:/Users/Angelo/Documents/Python/data/GEOparse/ already exists. Skipping.\n",
      "07-Feb-2022 11:31:59 INFO GEOparse - Downloading http://www.ncbi.nlm.nih.gov/geo/query/acc.cgi?targ=self&acc=GSM4859298&form=text&view=full to C:/Users/Angelo/Documents/Python/data/GEOparse/GSM4859298.txt\n",
      "07-Feb-2022 11:31:59 DEBUG downloader - Total size: 0\n",
      "07-Feb-2022 11:31:59 DEBUG downloader - md5: None\n",
      "2.69kB [00:00, 459kB/s]\n",
      "07-Feb-2022 11:31:59 DEBUG downloader - Moving C:\\Users\\Angelo\\AppData\\Local\\Temp\\tmpov92rzt6 to C:\\Users\\Angelo\\Documents\\Python\\data\\GEOparse\\GSM4859298.txt\n",
      "07-Feb-2022 11:31:59 DEBUG downloader - Successfully downloaded http://www.ncbi.nlm.nih.gov/geo/query/acc.cgi?targ=self&acc=GSM4859298&form=text&view=full\n",
      "07-Feb-2022 11:31:59 INFO GEOparse - Parsing C:/Users/Angelo/Documents/Python/data/GEOparse/GSM4859298.txt: \n",
      "07-Feb-2022 11:31:59 DEBUG utils - Directory C:/Users/Angelo/Documents/Python/data/GEOparse/ already exists. Skipping.\n",
      "07-Feb-2022 11:31:59 INFO GEOparse - Downloading http://www.ncbi.nlm.nih.gov/geo/query/acc.cgi?targ=self&acc=GSM4859299&form=text&view=full to C:/Users/Angelo/Documents/Python/data/GEOparse/GSM4859299.txt\n",
      "07-Feb-2022 11:31:59 DEBUG downloader - Total size: 0\n",
      "07-Feb-2022 11:31:59 DEBUG downloader - md5: None\n",
      "2.69kB [00:00, 1.38MB/s]\n",
      "07-Feb-2022 11:31:59 DEBUG downloader - Moving C:\\Users\\Angelo\\AppData\\Local\\Temp\\tmpafn8eik8 to C:\\Users\\Angelo\\Documents\\Python\\data\\GEOparse\\GSM4859299.txt\n",
      "07-Feb-2022 11:31:59 DEBUG downloader - Successfully downloaded http://www.ncbi.nlm.nih.gov/geo/query/acc.cgi?targ=self&acc=GSM4859299&form=text&view=full\n",
      "07-Feb-2022 11:31:59 INFO GEOparse - Parsing C:/Users/Angelo/Documents/Python/data/GEOparse/GSM4859299.txt: \n"
     ]
    }
   ],
   "source": [
    "#pull down detailed metadata for every subcut sample\n",
    "for scSample in subcut4T1_samples:\n",
    "    scSample = GEOparse.get_GEO(geo = scSample, \n",
    "                                destdir = \"C:/Users/Angelo/Documents/Python/data/GEOparse/\")"
   ]
  },
  {
   "cell_type": "code",
   "execution_count": 53,
   "id": "88e103d7",
   "metadata": {},
   "outputs": [
    {
     "data": {
      "text/plain": [
       "'./GEOparse/subcut4T1/GSM4859291_SC_Untreated_1.csv.gz'"
      ]
     },
     "execution_count": 53,
     "metadata": {},
     "output_type": "execute_result"
    }
   ],
   "source": [
    "#test of wget data download\n",
    "subcut_1_link = \"ftp://ftp.ncbi.nlm.nih.gov/geo/samples/GSM4859nnn/GSM4859291/suppl/GSM4859291_SC_Untreated_1.csv.gz\"\n",
    "wget.download(subcut_1_link, out = \"./GEOparse/subcut4T1\")"
   ]
  }
 ],
 "metadata": {
  "kernelspec": {
   "display_name": "Python 3 (ipykernel)",
   "language": "python",
   "name": "python3"
  },
  "language_info": {
   "codemirror_mode": {
    "name": "ipython",
    "version": 3
   },
   "file_extension": ".py",
   "mimetype": "text/x-python",
   "name": "python",
   "nbconvert_exporter": "python",
   "pygments_lexer": "ipython3",
   "version": "3.8.12"
  }
 },
 "nbformat": 4,
 "nbformat_minor": 5
}
